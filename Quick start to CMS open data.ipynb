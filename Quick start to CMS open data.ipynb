{
 "cells": [
  {
   "cell_type": "markdown",
   "metadata": {},
   "source": [
    "# Quick start to CMS Open Data"
   ]
  },
  {
   "cell_type": "markdown",
   "metadata": {},
   "source": [
    "This is a jupyter notebook, where you can have text \"cells\" (like this text here) and boxes where you can write python code to be executed. No need to install anything (if you run this on http://beta.mybinder.org/) or find compilers, it is all done for you in backgroud.\n",
    "\n",
    "For the exercise with CMS open data, we use python so few words about it: it is easy to get started, just type 1 + 1 in the cell below and click on \"Run cell\" icon above."
   ]
  },
  {
   "cell_type": "code",
   "execution_count": null,
   "metadata": {
    "collapsed": true
   },
   "outputs": [],
   "source": []
  },
  {
   "cell_type": "markdown",
   "metadata": {},
   "source": [
    "Now try something more advanced, for example tan(4)"
   ]
  },
  {
   "cell_type": "code",
   "execution_count": null,
   "metadata": {
    "collapsed": true
   },
   "outputs": [],
   "source": []
  },
  {
   "cell_type": "markdown",
   "metadata": {},
   "source": [
    "So basic python can do some operations but for anything more complex, we need additional software packages or \"modules\".\n",
    "\n",
    "That's what we will import here:"
   ]
  },
  {
   "cell_type": "code",
   "execution_count": 7,
   "metadata": {
    "collapsed": true
   },
   "outputs": [],
   "source": [
    "import pandas as pd \n",
    "#pandas is for data structures and data analysis tools\n",
    "import numpy as np\n",
    "#numpy is for scientific computing\n",
    "import matplotlib.pyplot as plt\n",
    "#matplotlib is for plotting"
   ]
  },
  {
   "cell_type": "markdown",
   "metadata": {},
   "source": [
    "Now, you want to try whether tan(4) works now? No, it does not... you will have to tell jupyter that you want to take the function from numpy (which for brevity was named np above). So try np.tan(4)... "
   ]
  },
  {
   "cell_type": "code",
   "execution_count": null,
   "metadata": {
    "collapsed": true
   },
   "outputs": [],
   "source": []
  },
  {
   "cell_type": "markdown",
   "metadata": {},
   "source": [
    "OK, let's get started with the data. We'll read the data from the CERN Open data portal"
   ]
  },
  {
   "cell_type": "code",
   "execution_count": 11,
   "metadata": {
    "collapsed": true
   },
   "outputs": [],
   "source": [
    "data = pd.read_csv('http://opendata.cern.ch/record/545/files/Dimuon%20SingleMu.csv')"
   ]
  },
  {
   "cell_type": "markdown",
   "metadata": {},
   "source": [
    "We'll have a look what we got in these data:"
   ]
  },
  {
   "cell_type": "code",
   "execution_count": 14,
   "metadata": {
    "collapsed": false
   },
   "outputs": [
    {
     "data": {
      "text/html": [
       "<div>\n",
       "<table border=\"1\" class=\"dataframe\">\n",
       "  <thead>\n",
       "    <tr style=\"text-align: right;\">\n",
       "      <th></th>\n",
       "      <th>Run</th>\n",
       "      <th>Event</th>\n",
       "      <th>type1</th>\n",
       "      <th>Q1</th>\n",
       "      <th>pt1</th>\n",
       "      <th>eta1</th>\n",
       "      <th>phi1</th>\n",
       "      <th>E1</th>\n",
       "      <th>px1</th>\n",
       "      <th>py1</th>\n",
       "      <th>...</th>\n",
       "      <th>type2</th>\n",
       "      <th>Q2</th>\n",
       "      <th>pt2</th>\n",
       "      <th>eta2</th>\n",
       "      <th>phi2</th>\n",
       "      <th>E2</th>\n",
       "      <th>px2</th>\n",
       "      <th>py2</th>\n",
       "      <th>pz2</th>\n",
       "      <th>M</th>\n",
       "    </tr>\n",
       "  </thead>\n",
       "  <tbody>\n",
       "    <tr>\n",
       "      <th>0</th>\n",
       "      <td>166699</td>\n",
       "      <td>835716681</td>\n",
       "      <td>G</td>\n",
       "      <td>1</td>\n",
       "      <td>4.2116</td>\n",
       "      <td>2.2366</td>\n",
       "      <td>-0.4849</td>\n",
       "      <td>19.9382</td>\n",
       "      <td>3.7261</td>\n",
       "      <td>-1.9631</td>\n",
       "      <td>...</td>\n",
       "      <td>T</td>\n",
       "      <td>-1</td>\n",
       "      <td>1.2556</td>\n",
       "      <td>2.2683</td>\n",
       "      <td>-1.4488</td>\n",
       "      <td>6.1319</td>\n",
       "      <td>0.1528</td>\n",
       "      <td>-1.2463</td>\n",
       "      <td>6.0011</td>\n",
       "      <td>2.1330</td>\n",
       "    </tr>\n",
       "    <tr>\n",
       "      <th>1</th>\n",
       "      <td>166699</td>\n",
       "      <td>836133459</td>\n",
       "      <td>G</td>\n",
       "      <td>-1</td>\n",
       "      <td>2.1479</td>\n",
       "      <td>-2.0159</td>\n",
       "      <td>-2.7753</td>\n",
       "      <td>8.2066</td>\n",
       "      <td>-2.0055</td>\n",
       "      <td>-0.7692</td>\n",
       "      <td>...</td>\n",
       "      <td>G</td>\n",
       "      <td>1</td>\n",
       "      <td>19.5453</td>\n",
       "      <td>-1.0826</td>\n",
       "      <td>-0.3408</td>\n",
       "      <td>32.1613</td>\n",
       "      <td>18.4210</td>\n",
       "      <td>-6.5332</td>\n",
       "      <td>-25.5406</td>\n",
       "      <td>13.6786</td>\n",
       "    </tr>\n",
       "    <tr>\n",
       "      <th>2</th>\n",
       "      <td>166699</td>\n",
       "      <td>836165498</td>\n",
       "      <td>G</td>\n",
       "      <td>1</td>\n",
       "      <td>21.0732</td>\n",
       "      <td>1.5948</td>\n",
       "      <td>-1.1137</td>\n",
       "      <td>54.0560</td>\n",
       "      <td>9.2997</td>\n",
       "      <td>-18.9102</td>\n",
       "      <td>...</td>\n",
       "      <td>T</td>\n",
       "      <td>-1</td>\n",
       "      <td>2.3864</td>\n",
       "      <td>1.5352</td>\n",
       "      <td>-1.7388</td>\n",
       "      <td>5.7968</td>\n",
       "      <td>-0.3991</td>\n",
       "      <td>-2.3528</td>\n",
       "      <td>5.2818</td>\n",
       "      <td>4.3813</td>\n",
       "    </tr>\n",
       "    <tr>\n",
       "      <th>3</th>\n",
       "      <td>166699</td>\n",
       "      <td>836249706</td>\n",
       "      <td>G</td>\n",
       "      <td>1</td>\n",
       "      <td>18.5889</td>\n",
       "      <td>1.6422</td>\n",
       "      <td>1.1923</td>\n",
       "      <td>49.8180</td>\n",
       "      <td>6.8688</td>\n",
       "      <td>17.2734</td>\n",
       "      <td>...</td>\n",
       "      <td>G</td>\n",
       "      <td>-1</td>\n",
       "      <td>1.8721</td>\n",
       "      <td>1.9704</td>\n",
       "      <td>1.6393</td>\n",
       "      <td>6.8459</td>\n",
       "      <td>-0.1281</td>\n",
       "      <td>1.8678</td>\n",
       "      <td>6.5841</td>\n",
       "      <td>3.2587</td>\n",
       "    </tr>\n",
       "    <tr>\n",
       "      <th>4</th>\n",
       "      <td>166699</td>\n",
       "      <td>835608783</td>\n",
       "      <td>G</td>\n",
       "      <td>-1</td>\n",
       "      <td>11.8194</td>\n",
       "      <td>0.8711</td>\n",
       "      <td>-1.5811</td>\n",
       "      <td>16.5947</td>\n",
       "      <td>-0.1214</td>\n",
       "      <td>-11.8187</td>\n",
       "      <td>...</td>\n",
       "      <td>T</td>\n",
       "      <td>1</td>\n",
       "      <td>0.9408</td>\n",
       "      <td>2.0107</td>\n",
       "      <td>-1.6559</td>\n",
       "      <td>3.5779</td>\n",
       "      <td>-0.0799</td>\n",
       "      <td>-0.9374</td>\n",
       "      <td>3.4504</td>\n",
       "      <td>4.0171</td>\n",
       "    </tr>\n",
       "  </tbody>\n",
       "</table>\n",
       "<p>5 rows × 21 columns</p>\n",
       "</div>"
      ],
      "text/plain": [
       "      Run      Event type1  Q1      pt1    eta1    phi1       E1     px1  \\\n",
       "0  166699  835716681     G   1   4.2116  2.2366 -0.4849  19.9382  3.7261   \n",
       "1  166699  836133459     G  -1   2.1479 -2.0159 -2.7753   8.2066 -2.0055   \n",
       "2  166699  836165498     G   1  21.0732  1.5948 -1.1137  54.0560  9.2997   \n",
       "3  166699  836249706     G   1  18.5889  1.6422  1.1923  49.8180  6.8688   \n",
       "4  166699  835608783     G  -1  11.8194  0.8711 -1.5811  16.5947 -0.1214   \n",
       "\n",
       "       py1   ...     type2 Q2      pt2    eta2    phi2       E2      px2  \\\n",
       "0  -1.9631   ...         T -1   1.2556  2.2683 -1.4488   6.1319   0.1528   \n",
       "1  -0.7692   ...         G  1  19.5453 -1.0826 -0.3408  32.1613  18.4210   \n",
       "2 -18.9102   ...         T -1   2.3864  1.5352 -1.7388   5.7968  -0.3991   \n",
       "3  17.2734   ...         G -1   1.8721  1.9704  1.6393   6.8459  -0.1281   \n",
       "4 -11.8187   ...         T  1   0.9408  2.0107 -1.6559   3.5779  -0.0799   \n",
       "\n",
       "      py2      pz2        M  \n",
       "0 -1.2463   6.0011   2.1330  \n",
       "1 -6.5332 -25.5406  13.6786  \n",
       "2 -2.3528   5.2818   4.3813  \n",
       "3  1.8678   6.5841   3.2587  \n",
       "4 -0.9374   3.4504   4.0171  \n",
       "\n",
       "[5 rows x 21 columns]"
      ]
     },
     "execution_count": 14,
     "metadata": {},
     "output_type": "execute_result"
    }
   ],
   "source": [
    "data.head()"
   ]
  },
  {
   "cell_type": "markdown",
   "metadata": {},
   "source": [
    "This is a dataset from http://opendata.cern.ch/record/545. It is a csv (comma separated values) file which can be easily used in many different frameworks. Take note that there will be un update for the CERN open data portal and it will soon be much easier to look for csv files for educational purposes!!\n",
    "\n",
    "What has been written is this dataset are the values (charge, direction, momentum) of two muons from a CMS primary dataset http://opendata.cern.ch/record/32. All other particles have been omitted. If you're interested the code and instructions for producing this kind of simplified datasets is in http://opendata.cern.ch/record/552\n",
    "\n",
    "Now, if you brave enough you can compute the invariant mass for the two muons. If you are in a hurry, just use the value M, which has been computed for you already :-)"
   ]
  },
  {
   "cell_type": "code",
   "execution_count": 16,
   "metadata": {
    "collapsed": false
   },
   "outputs": [],
   "source": [
    "invariant_mass = data['M']"
   ]
  },
  {
   "cell_type": "markdown",
   "metadata": {},
   "source": [
    "You can type the name of the your new variable to see what went in there:"
   ]
  },
  {
   "cell_type": "code",
   "execution_count": null,
   "metadata": {
    "collapsed": true
   },
   "outputs": [],
   "source": []
  },
  {
   "cell_type": "markdown",
   "metadata": {},
   "source": [
    "Now let's make a histogram"
   ]
  },
  {
   "cell_type": "code",
   "execution_count": 26,
   "metadata": {
    "collapsed": false
   },
   "outputs": [
    {
     "data": {
      "image/png": "[encoded data removed]",
      "text/plain": [
       "<matplotlib.figure.Figure at 0x1a7db6bf588>"
      ]
     },
     "metadata": {},
     "output_type": "display_data"
    }
   ],
   "source": [
    "# Plot the histogram with the function hist() of the matplotlib.pyplot module:\n",
    "# (http://matplotlib.org/api/pyplot_api.html?highlight=matplotlib.pyplot.hist#matplotlib.pyplot.hist).\n",
    "# 'Bins' determines the number of the bins used.\n",
    "plt.hist(invariant_mass, bins=500)\n",
    "\n",
    "# Name the axises and give the title.\n",
    "plt.xlabel('Invariant mass [GeV]')\n",
    "plt.ylabel('Number of events')\n",
    "plt.title('The histogram of the invariant masses of two muons \\n') # \\n creates a new line for making the title look better\n",
    "\n",
    "# Show the plot.\n",
    "plt.show()"
   ]
  },
  {
   "cell_type": "markdown",
   "metadata": {},
   "source": [
    "You can check whether you like more log-option. Just edit the cell above, add plt.yscale('log') before plt.show() and run it again."
   ]
  },
  {
   "cell_type": "markdown",
   "metadata": {},
   "source": [
    "Now zoom to see whether you can find some familiar particles in the dimuon spectrun, we can set the range of the histogram with option range=[min,max]."
   ]
  },
  {
   "cell_type": "code",
   "execution_count": 24,
   "metadata": {
    "collapsed": false
   },
   "outputs": [
    {
     "data": {
      "image/png": "[encoded data removed]",
      "text/plain": [
       "<matplotlib.figure.Figure at 0x1a7db39e9e8>"
      ]
     },
     "metadata": {},
     "output_type": "display_data"
    }
   ],
   "source": [
    "plt.hist(invariant_mass, bins=200, range=[8,12])\n",
    "plt.show()"
   ]
  },
  {
   "cell_type": "code",
   "execution_count": null,
   "metadata": {
    "collapsed": true
   },
   "outputs": [],
   "source": [
    "plt.hist(invariant_mass, bins=200, range=[9,11])\n",
    "plt.show()"
   ]
  }
 ],
 "metadata": {
  "kernelspec": {
   "display_name": "Python 3",
   "language": "python",
   "name": "python3"
  },
  "language_info": {
   "codemirror_mode": {
    "name": "ipython",
    "version": 3
   },
   "file_extension": ".py",
   "mimetype": "text/x-python",
   "name": "python",
   "nbconvert_exporter": "python",
   "pygments_lexer": "ipython3",
   "version": "3.6.0"
  }
 },
 "nbformat": 4,
 "nbformat_minor": 2
}
